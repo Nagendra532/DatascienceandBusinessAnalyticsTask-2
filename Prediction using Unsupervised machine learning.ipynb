{
 "cells": [
  {
   "cell_type": "markdown",
   "id": "republican-arthur",
   "metadata": {},
   "source": [
    "<b>The Sparks Foundation: Task 2- Unsupervised Learning (K Means Clustering) - Iris Dataset\n",
    "    \n",
    "<b>Name : Gopisetty Nagendra\n",
    "    \n",
    "<b>Prediction Using Unsupervised Machine Learning(Using K-means Clustering Algorithm)\n",
    "\n",
    "<b> \"To predict the optimum number of clusters and to represent visually from given dataset iris\"\n",
    "    \n",
    "<b>1) Import the required libraries"
   ]
  },
  {
   "cell_type": "code",
   "execution_count": 1,
   "id": "fiscal-internship",
   "metadata": {},
   "outputs": [],
   "source": [
    "import numpy as np\n",
    "import pandas as pd\n",
    "import matplotlib.pyplot as plt\n",
    "from sklearn import datasets"
   ]
  },
  {
   "cell_type": "markdown",
   "id": "outer-mailing",
   "metadata": {},
   "source": [
    "<b>2.Loading Iris dataset from sklearn\n"
   ]
  },
  {
   "cell_type": "code",
   "execution_count": 2,
   "id": "varying-connecticut",
   "metadata": {},
   "outputs": [
    {
     "data": {
      "text/html": [
       "<div>\n",
       "<style scoped>\n",
       "    .dataframe tbody tr th:only-of-type {\n",
       "        vertical-align: middle;\n",
       "    }\n",
       "\n",
       "    .dataframe tbody tr th {\n",
       "        vertical-align: top;\n",
       "    }\n",
       "\n",
       "    .dataframe thead th {\n",
       "        text-align: right;\n",
       "    }\n",
       "</style>\n",
       "<table border=\"1\" class=\"dataframe\">\n",
       "  <thead>\n",
       "    <tr style=\"text-align: right;\">\n",
       "      <th></th>\n",
       "      <th>sepal length (cm)</th>\n",
       "      <th>sepal width (cm)</th>\n",
       "      <th>petal length (cm)</th>\n",
       "      <th>petal width (cm)</th>\n",
       "    </tr>\n",
       "  </thead>\n",
       "  <tbody>\n",
       "    <tr>\n",
       "      <th>0</th>\n",
       "      <td>5.1</td>\n",
       "      <td>3.5</td>\n",
       "      <td>1.4</td>\n",
       "      <td>0.2</td>\n",
       "    </tr>\n",
       "    <tr>\n",
       "      <th>1</th>\n",
       "      <td>4.9</td>\n",
       "      <td>3.0</td>\n",
       "      <td>1.4</td>\n",
       "      <td>0.2</td>\n",
       "    </tr>\n",
       "    <tr>\n",
       "      <th>2</th>\n",
       "      <td>4.7</td>\n",
       "      <td>3.2</td>\n",
       "      <td>1.3</td>\n",
       "      <td>0.2</td>\n",
       "    </tr>\n",
       "    <tr>\n",
       "      <th>3</th>\n",
       "      <td>4.6</td>\n",
       "      <td>3.1</td>\n",
       "      <td>1.5</td>\n",
       "      <td>0.2</td>\n",
       "    </tr>\n",
       "    <tr>\n",
       "      <th>4</th>\n",
       "      <td>5.0</td>\n",
       "      <td>3.6</td>\n",
       "      <td>1.4</td>\n",
       "      <td>0.2</td>\n",
       "    </tr>\n",
       "    <tr>\n",
       "      <th>5</th>\n",
       "      <td>5.4</td>\n",
       "      <td>3.9</td>\n",
       "      <td>1.7</td>\n",
       "      <td>0.4</td>\n",
       "    </tr>\n",
       "    <tr>\n",
       "      <th>6</th>\n",
       "      <td>4.6</td>\n",
       "      <td>3.4</td>\n",
       "      <td>1.4</td>\n",
       "      <td>0.3</td>\n",
       "    </tr>\n",
       "    <tr>\n",
       "      <th>7</th>\n",
       "      <td>5.0</td>\n",
       "      <td>3.4</td>\n",
       "      <td>1.5</td>\n",
       "      <td>0.2</td>\n",
       "    </tr>\n",
       "    <tr>\n",
       "      <th>8</th>\n",
       "      <td>4.4</td>\n",
       "      <td>2.9</td>\n",
       "      <td>1.4</td>\n",
       "      <td>0.2</td>\n",
       "    </tr>\n",
       "    <tr>\n",
       "      <th>9</th>\n",
       "      <td>4.9</td>\n",
       "      <td>3.1</td>\n",
       "      <td>1.5</td>\n",
       "      <td>0.1</td>\n",
       "    </tr>\n",
       "  </tbody>\n",
       "</table>\n",
       "</div>"
      ],
      "text/plain": [
       "   sepal length (cm)  sepal width (cm)  petal length (cm)  petal width (cm)\n",
       "0                5.1               3.5                1.4               0.2\n",
       "1                4.9               3.0                1.4               0.2\n",
       "2                4.7               3.2                1.3               0.2\n",
       "3                4.6               3.1                1.5               0.2\n",
       "4                5.0               3.6                1.4               0.2\n",
       "5                5.4               3.9                1.7               0.4\n",
       "6                4.6               3.4                1.4               0.3\n",
       "7                5.0               3.4                1.5               0.2\n",
       "8                4.4               2.9                1.4               0.2\n",
       "9                4.9               3.1                1.5               0.1"
      ]
     },
     "execution_count": 2,
     "metadata": {},
     "output_type": "execute_result"
    }
   ],
   "source": [
    "#convert iris_data into panda dataframe\n",
    "iris_data = datasets.load_iris()\n",
    "iris_x_df = pd.DataFrame(iris_data.data, columns = iris_data.feature_names)\n",
    "iris_x_df.head(10)"
   ]
  },
  {
   "cell_type": "code",
   "execution_count": 3,
   "id": "unique-subject",
   "metadata": {},
   "outputs": [
    {
     "data": {
      "text/plain": [
       "(150, 4)"
      ]
     },
     "execution_count": 3,
     "metadata": {},
     "output_type": "execute_result"
    }
   ],
   "source": [
    "#shows columns and rows\n",
    "iris_x_df.shape"
   ]
  },
  {
   "cell_type": "code",
   "execution_count": 4,
   "id": "enclosed-pasta",
   "metadata": {},
   "outputs": [
    {
     "data": {
      "text/plain": [
       "sepal length (cm)    0\n",
       "sepal width (cm)     0\n",
       "petal length (cm)    0\n",
       "petal width (cm)     0\n",
       "dtype: int64"
      ]
     },
     "execution_count": 4,
     "metadata": {},
     "output_type": "execute_result"
    }
   ],
   "source": [
    "#to check any column is null\n",
    "iris_x_df.isnull().sum()"
   ]
  },
  {
   "cell_type": "code",
   "execution_count": 5,
   "id": "varying-december",
   "metadata": {},
   "outputs": [
    {
     "name": "stdout",
     "output_type": "stream",
     "text": [
      "<class 'pandas.core.frame.DataFrame'>\n",
      "RangeIndex: 150 entries, 0 to 149\n",
      "Data columns (total 4 columns):\n",
      " #   Column             Non-Null Count  Dtype  \n",
      "---  ------             --------------  -----  \n",
      " 0   sepal length (cm)  150 non-null    float64\n",
      " 1   sepal width (cm)   150 non-null    float64\n",
      " 2   petal length (cm)  150 non-null    float64\n",
      " 3   petal width (cm)   150 non-null    float64\n",
      "dtypes: float64(4)\n",
      "memory usage: 4.8 KB\n"
     ]
    }
   ],
   "source": [
    "iris_x_df.info()"
   ]
  },
  {
   "cell_type": "markdown",
   "id": "institutional-translator",
   "metadata": {},
   "source": [
    "<b> 3. Using 'Elbow Method' to find optimum number of clusters for k-means classification"
   ]
  },
  {
   "cell_type": "code",
   "execution_count": 6,
   "id": "derived-mobile",
   "metadata": {},
   "outputs": [
    {
     "name": "stdout",
     "output_type": "stream",
     "text": [
      "[681.3705999999996, 152.34795176035797, 78.851441426146, 57.22847321428572, 46.44618205128204, 39.03998724608725, 34.299712121212146, 30.063110617452732, 28.124129261089806, 26.094324740540422, 24.492395286730822, 22.713918404916985, 21.690983282068828, 20.049091382301917, 18.898246810207333, 17.905960735171274, 17.130082792207794, 16.46601160097213, 15.280046703296708, 14.904289072039074]\n"
     ]
    }
   ],
   "source": [
    "from sklearn.cluster import KMeans\n",
    "x = iris_x_df.iloc[:, :].values\n",
    "wcs = []  #wcss stands for 'within cluster sum of squares'\n",
    "\n",
    "for i in range(1, 21):\n",
    "    model = KMeans(n_clusters = i, init = 'k-means++',    \n",
    "                    max_iter = 250, n_init = 15, random_state = 0)\n",
    "    model.fit(x)                                          \n",
    "    wcs.append(model.inertia_)                       \n",
    "\n",
    "print(wcs)"
   ]
  },
  {
   "cell_type": "markdown",
   "id": "severe-apache",
   "metadata": {},
   "source": [
    "<b>4.Plotting the Result (line graph)"
   ]
  },
  {
   "cell_type": "code",
   "execution_count": 7,
   "id": "voluntary-ghana",
   "metadata": {},
   "outputs": [
    {
     "data": {
      "image/png": "[encoded data removed]",
      "text/plain": [
       "<Figure size 432x288 with 1 Axes>"
      ]
     },
     "metadata": {
      "needs_background": "light"
     },
     "output_type": "display_data"
    }
   ],
   "source": [
    "#plot wcs values and no.of clusters to find elbow\n",
    "plt.plot(range(1, 21), wcs, color = 'r')\n",
    "plt.title('Number of Clusters Vs WCS')\n",
    "plt.xlabel('Number of Clusters')\n",
    "plt.ylabel('Within Clusters Sum of Squares(wcs)')\n",
    "plt.annotate('Elbow', xytext=(6,200), xy=(3,79), arrowprops={'facecolor':'green'})\n",
    "plt.grid() \n",
    "plt.show()"
   ]
  },
  {
   "cell_type": "markdown",
   "id": "homeless-brazilian",
   "metadata": {},
   "source": [
    "<b>Elbow occurs where the line graph bends and wcs(within cluster sum of squares ) does not decrease significantly with every iteration. From the above graph, Elbow occurs at number of clusters equivalent to 3.\n",
    "    \n",
    "<b>So optimum number of clusters for this Iris dataset = 3\n",
    "\n",
    "    \n",
    "<b>5. Create and Train the Model ( KMeans)"
   ]
  },
  {
   "cell_type": "code",
   "execution_count": 8,
   "id": "embedded-train",
   "metadata": {},
   "outputs": [],
   "source": [
    "#set no.of clusters equal to 3\n",
    "model = KMeans(n_clusters = 3, init = 'k-means++',\n",
    "                max_iter = 250, n_init = 15, random_state = 0)\n",
    "y = model.fit_predict(x)   \n",
    "#to train and predict model"
   ]
  },
  {
   "cell_type": "code",
   "execution_count": 9,
   "id": "opening-elevation",
   "metadata": {},
   "outputs": [
    {
     "data": {
      "text/plain": [
       "array([1, 1, 1, 1, 1, 1, 1, 1, 1, 1, 1, 1, 1, 1, 1, 1, 1, 1, 1, 1, 1, 1,\n",
       "       1, 1, 1, 1, 1, 1, 1, 1, 1, 1, 1, 1, 1, 1, 1, 1, 1, 1, 1, 1, 1, 1,\n",
       "       1, 1, 1, 1, 1, 1, 0, 0, 2, 0, 0, 0, 0, 0, 0, 0, 0, 0, 0, 0, 0, 0,\n",
       "       0, 0, 0, 0, 0, 0, 0, 0, 0, 0, 0, 2, 0, 0, 0, 0, 0, 0, 0, 0, 0, 0,\n",
       "       0, 0, 0, 0, 0, 0, 0, 0, 0, 0, 0, 0, 2, 0, 2, 2, 2, 2, 0, 2, 2, 2,\n",
       "       2, 2, 2, 0, 0, 2, 2, 2, 2, 0, 2, 0, 2, 0, 2, 2, 0, 0, 2, 2, 2, 2,\n",
       "       2, 0, 2, 2, 2, 2, 0, 2, 2, 2, 0, 2, 2, 2, 0, 2, 2, 0], dtype=int32)"
      ]
     },
     "execution_count": 9,
     "metadata": {},
     "output_type": "execute_result"
    }
   ],
   "source": [
    "y"
   ]
  },
  {
   "cell_type": "markdown",
   "id": "chemical-sodium",
   "metadata": {},
   "source": [
    "<b>6. Visualizing the Clusters by plotting scatter Graph"
   ]
  },
  {
   "cell_type": "code",
   "execution_count": 10,
   "id": "alien-bruce",
   "metadata": {},
   "outputs": [
    {
     "data": {
      "image/png": "[encoded data removed]",
      "text/plain": [
       "<Figure size 432x288 with 1 Axes>"
      ]
     },
     "metadata": {
      "needs_background": "light"
     },
     "output_type": "display_data"
    }
   ],
   "source": [
    "# Plotting the three clusters of first two columns(sepal length, sepal width) of input Iris data\n",
    "plt.scatter(x[y == 0, 0], x[y == 0, 1], \n",
    "            s = 50, c = 'cyan', label = 'Iris-setosa')\n",
    "plt.scatter(x[y == 1, 0], x[y == 1, 1], \n",
    "            s = 50, c = 'blue', label = 'Iris-versicolour')   \n",
    "plt.scatter(x[y == 2, 0], x[y == 2, 1],\n",
    "            s = 50, c = 'green', label = 'Iris-virginica')\n",
    "\n",
    "# Plotting the centroids of each clusters\n",
    "#three clusters are represented here with three colours\n",
    "plt.scatter(model.cluster_centers_[:, 0], model.cluster_centers_[:,1], \n",
    "            s = 75, c = 'red', label = 'Centroids')\n",
    "\n",
    "plt.legend(loc=1, bbox_to_anchor= (1.4, 1))\n",
    "plt.grid()"
   ]
  },
  {
   "cell_type": "code",
   "execution_count": 11,
   "id": "injured-arrest",
   "metadata": {},
   "outputs": [
    {
     "data": {
      "image/png": "[encoded data removed]",
      "text/plain": [
       "<Figure size 432x288 with 1 Axes>"
      ]
     },
     "metadata": {
      "needs_background": "light"
     },
     "output_type": "display_data"
    }
   ],
   "source": [
    "# Plotting the three clusters of third and fourth columns(petal length, petal width) of Iris data\n",
    "plt.scatter(x[y == 0, 2], x[y == 0, 3], \n",
    "            s = 50, c = 'cyan', label = 'Iris-setosa')\n",
    "plt.scatter(x[y == 1, 2], x[y == 1, 3], \n",
    "            s = 50, c = 'yellow', label = 'Iris-versicolour')\n",
    "plt.scatter(x[y == 2, 2], x[y == 2, 3],\n",
    "            s = 50, c = 'm', label = 'Iris-virginica')\n",
    "\n",
    "# Plotting the centroids of each clusters\n",
    "plt.scatter(model.cluster_centers_[:, 2], model.cluster_centers_[:,3], \n",
    "            s = 75, c = 'red', label = 'Centroids')\n",
    "\n",
    "plt.legend(loc=1, bbox_to_anchor= (1.4, 1))\n",
    "plt.grid()"
   ]
  },
  {
   "cell_type": "markdown",
   "id": "efficient-placement",
   "metadata": {},
   "source": [
    "<b>Result: predicted the optimum number of clusters and to represent visually from given dataset \"iris\""
   ]
  }
 ],
 "metadata": {
  "kernelspec": {
   "display_name": "Python 3",
   "language": "python",
   "name": "python3"
  },
  "language_info": {
   "codemirror_mode": {
    "name": "ipython",
    "version": 3
   },
   "file_extension": ".py",
   "mimetype": "text/x-python",
   "name": "python",
   "nbconvert_exporter": "python",
   "pygments_lexer": "ipython3",
   "version": "3.6.13"
  }
 },
 "nbformat": 4,
 "nbformat_minor": 5
}
